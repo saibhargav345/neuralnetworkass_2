{
  "nbformat": 4,
  "nbformat_minor": 0,
  "metadata": {
    "colab": {
      "provenance": []
    },
    "kernelspec": {
      "name": "python3",
      "display_name": "Python 3"
    },
    "language_info": {
      "name": "python"
    }
  },
  "cells": [
    {
      "cell_type": "code",
      "execution_count": 2,
      "metadata": {
        "colab": {
          "base_uri": "https://localhost:8080/"
        },
        "id": "s_N4FPoPeMts",
        "outputId": "eb81871f-6a9b-4794-ce1f-b77214699139"
      },
      "outputs": [
        {
          "output_type": "stream",
          "name": "stdout",
          "text": [
            "sai bhargav mannepalli\n",
            "mannepalli\n",
            "sai bhargav mannepalli mannepalli\n"
          ]
        }
      ],
      "source": [
        "def full_name(a,b):\n",
        "  return a+\" \"+b\n",
        "firstname=input()\n",
        "lastname=input()\n",
        "print(full_name(firstname,lastname))"
      ]
    },
    {
      "cell_type": "code",
      "source": [
        "def string_alternative(s):\n",
        "  return s[::2]\n",
        "print(string_alternative(input()))"
      ],
      "metadata": {
        "colab": {
          "base_uri": "https://localhost:8080/"
        },
        "id": "ATc-Mdzbev0s",
        "outputId": "8a3dfef8-ac8d-45f1-8101-7e74abd5322d"
      },
      "execution_count": 3,
      "outputs": [
        {
          "output_type": "stream",
          "name": "stdout",
          "text": [
            "Good evening\n",
            "Go vnn\n"
          ]
        }
      ]
    },
    {
      "cell_type": "code",
      "source": [
        "text = open(\"input.txt\", \"r\")\n",
        "d = dict()\n",
        "for line in text:\n",
        "\n",
        "    line = line.strip()\n",
        "    line = line.lower()\n",
        "    words = line.split(\" \")\n",
        "    for word in words:\n",
        "        if word in d:\n",
        "            d[word] = d[word] + 1\n",
        "        else:\n",
        "            d[word] = 1\n",
        "file1 = open('output.txt', 'w')\n",
        "s=\"\"\n",
        "for key in list(d.keys()):\n",
        "    s+=key+ \":\"+ str(d[key])+\"\\n\"\n",
        "file1.write(s)\n",
        "file1.close()"
      ],
      "metadata": {
        "id": "irrIlWgogNFO"
      },
      "execution_count": 4,
      "outputs": []
    },
    {
      "cell_type": "code",
      "source": [
        "l=[]\n",
        "l1=[]\n",
        "n=int(input(\"Enter number of customers:\"))\n",
        "for i in range(n):\n",
        "  l.append(int(input()))\n",
        "  l1.append(l[i]*2.54)\n",
        "print(l)\n",
        "print(l1)"
      ],
      "metadata": {
        "colab": {
          "base_uri": "https://localhost:8080/"
        },
        "id": "JvnWs2CAhhMa",
        "outputId": "3e17b6a2-81ae-4832-9429-11b6763bfd78"
      },
      "execution_count": 5,
      "outputs": [
        {
          "output_type": "stream",
          "name": "stdout",
          "text": [
            "Enter number of customers:4\n",
            "150\n",
            "155\n",
            "165\n",
            "204\n",
            "[150, 155, 165, 204]\n",
            "[381.0, 393.7, 419.1, 518.16]\n"
          ]
        }
      ]
    },
    {
      "cell_type": "code",
      "source": [],
      "metadata": {
        "id": "IAxEL2zakPVd"
      },
      "execution_count": null,
      "outputs": []
    }
  ]
}